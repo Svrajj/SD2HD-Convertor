{
 "cells": [
  {
   "cell_type": "code",
   "execution_count": 1,
   "metadata": {},
   "outputs": [
    {
     "name": "stderr",
     "output_type": "stream",
     "text": [
      "C:\\Users\\Suraj\\AppData\\Roaming\\Python\\Python311\\site-packages\\diffusers\\models\\transformers\\transformer_2d.py:34: FutureWarning: `Transformer2DModelOutput` is deprecated and will be removed in version 1.0.0. Importing `Transformer2DModelOutput` from `diffusers.models.transformer_2d` is deprecated and this will be removed in a future version. Please use `from diffusers.models.modeling_outputs import Transformer2DModelOutput`, instead.\n",
      "  deprecate(\"Transformer2DModelOutput\", \"1.0.0\", deprecation_message)\n"
     ]
    }
   ],
   "source": [
    "import torch\n",
    "from diffusers import StableDiffusionUpscalePipeline\n",
    "from moviepy.editor import VideoFileClip, ImageClip, concatenate_videoclips\n",
    "from PIL import Image\n",
    "import os"
   ]
  },
  {
   "cell_type": "code",
   "execution_count": 2,
   "metadata": {},
   "outputs": [
    {
     "name": "stderr",
     "output_type": "stream",
     "text": [
      "Cannot initialize model with low cpu memory usage because `accelerate` was not found in the environment. Defaulting to `low_cpu_mem_usage=False`. It is strongly recommended to install `accelerate` for faster and less memory-intense model loading. You can do so with: \n",
      "```\n",
      "pip install accelerate\n",
      "```\n",
      ".\n"
     ]
    },
    {
     "data": {
      "application/vnd.jupyter.widget-view+json": {
       "model_id": "d61516e9125e47dc8731f79c88ee4f82",
       "version_major": 2,
       "version_minor": 0
      },
      "text/plain": [
       "Loading pipeline components...:   0%|          | 0/6 [00:00<?, ?it/s]"
      ]
     },
     "metadata": {},
     "output_type": "display_data"
    }
   ],
   "source": [
    "# Load the pre-trained pipeline with mixed precision\n",
    "pipeline = StableDiffusionUpscalePipeline.from_pretrained(\n",
    "    \"stabilityai/stable-diffusion-x4-upscaler\",\n",
    "    torch_dtype=torch.float16\n",
    ")"
   ]
  },
  {
   "cell_type": "code",
   "execution_count": null,
   "metadata": {},
   "outputs": [],
   "source": []
  },
  {
   "cell_type": "code",
   "execution_count": 3,
   "metadata": {},
   "outputs": [],
   "source": [
    "# Function to upscale a single frame\n",
    "def upscale_frame(frame, pipeline, prompt):\n",
    "    img = Image.fromarray(frame).convert(\"RGB\")\n",
    "    low_res_img = img.resize((640, 480))  # assuming the input frame is in SD resolution\n",
    "    upscaled_image = pipeline(prompt=prompt, image=low_res_img).images[0]\n",
    "    return upscaled_image"
   ]
  },
  {
   "cell_type": "code",
   "execution_count": 4,
   "metadata": {},
   "outputs": [],
   "source": [
    "# Function to upscale a video\n",
    "def upscale_video(input_path, output_path, pipeline, prompt, batch_size=2):\n",
    "    video = VideoFileClip(input_path)\n",
    "    upscaled_frames = []\n",
    "\n",
    "    # Create directory for upscaled frames\n",
    "    if not os.path.exists(\"frames\"):\n",
    "        os.makedirs(\"frames\")\n",
    "\n",
    "    for batch_start in range(0, int(video.duration * video.fps), batch_size):\n",
    "        batch_end = min(batch_start + batch_size, int(video.duration * video.fps))\n",
    "        for i in range(batch_start, batch_end):\n",
    "            frame = video.get_frame(i / video.fps)\n",
    "            upscaled_frame = upscale_frame(frame, pipeline, prompt)\n",
    "            upscaled_frames.append(upscaled_frame)\n",
    "            upscaled_frame.save(f\"frames/frame_{i:04d}.png\")\n",
    "        torch.cuda.empty_cache()  # Clear cache after each batch\n",
    "\n",
    "    # Create video from upscaled frames\n",
    "    out_video = concatenate_videoclips(\n",
    "        [ImageClip(f\"frames/frame_{i:04d}.png\").set_duration(1 / video.fps) for i in range(len(upscaled_frames))]\n",
    "    )\n",
    "    out_video.write_videofile(output_path, fps=video.fps)\n"
   ]
  },
  {
   "cell_type": "code",
   "execution_count": 5,
   "metadata": {},
   "outputs": [],
   "source": [
    "# Define the input video path, output video path, and the prompt for the pipeline\n",
    "input_video_path = \"480psample.mp4\"\n",
    "output_video_path = \"output.mp4\"\n",
    "prompt = \"A high-quality HD version of this video.\"\n"
   ]
  },
  {
   "cell_type": "code",
   "execution_count": 2,
   "metadata": {},
   "outputs": [],
   "source": [
    "# Upscale the video\n",
    "upscale_video(input_video_path, output_video_path, pipeline, prompt)"
   ]
  }
 ],
 "metadata": {
  "kernelspec": {
   "display_name": "base",
   "language": "python",
   "name": "python3"
  },
  "language_info": {
   "codemirror_mode": {
    "name": "ipython",
    "version": 3
   },
   "file_extension": ".py",
   "mimetype": "text/x-python",
   "name": "python",
   "nbconvert_exporter": "python",
   "pygments_lexer": "ipython3",
   "version": "3.11.7"
  }
 },
 "nbformat": 4,
 "nbformat_minor": 2
}
